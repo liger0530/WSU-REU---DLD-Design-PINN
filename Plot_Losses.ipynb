{
 "cells": [
  {
   "cell_type": "code",
   "execution_count": 8,
   "id": "7b23ce58",
   "metadata": {},
   "outputs": [],
   "source": [
    "import numpy as np\n",
    "import os\n",
    "import pandas as pd\n",
    "from scipy.interpolate import RBFInterpolator\n",
    "import matplotlib.pyplot as plt"
   ]
  },
  {
   "cell_type": "code",
   "execution_count": 9,
   "id": "4880d754",
   "metadata": {},
   "outputs": [],
   "source": [
    "# Folder path containing CSV files\n",
    "folder_path = \"data/csv\"\n",
    "out_file    = \"results/losses/losses.csv\"\n",
    "\n",
    "# Ensure the output directory exists\n",
    "os.makedirs(os.path.dirname(out_file), exist_ok=True)\n",
    "write_header = not os.path.exists(out_file)\n",
    "\n",
    "# Define value ranges\n",
    "first_values = np.arange(0.3, 0.7, 0.05)  # 0.25 to 0.7 with step 0.05\n",
    "# second_values = np.arange(3, 15, 1)  # 3 to 14\n",
    "second_values = np.arange(3, 15, 1)  # 3 to 14"
   ]
  },
  {
   "cell_type": "code",
   "execution_count": 10,
   "id": "b2e0921d",
   "metadata": {},
   "outputs": [],
   "source": [
    "def numerical_gradient(f_interp, pts, h=1e-4):\n",
    "    grads = []\n",
    "    for i in range(2):\n",
    "        offset = np.zeros_like(pts)\n",
    "        offset[:, i] = h\n",
    "        grad_i = (f_interp(pts + offset) - f_interp(pts - offset)) / (2 * h)\n",
    "        grads.append(grad_i)\n",
    "    return grads\n",
    "\n",
    "def numerical_laplacian(f_interp, pts, h=1e-4):\n",
    "    lap = np.zeros(len(pts))\n",
    "    for i in range(2):\n",
    "        offset = np.zeros_like(pts)\n",
    "        f_plus = f_interp(pts + offset)\n",
    "        f_minus = f_interp(pts - offset)\n",
    "        f_center = f_interp(pts)\n",
    "        lap += (f_plus - 2 * f_center + f_minus) / h**2\n",
    "    return lap"
   ]
  },
  {
   "cell_type": "code",
   "execution_count": null,
   "id": "3c26b785",
   "metadata": {},
   "outputs": [
    {
     "name": "stdout",
     "output_type": "stream",
     "text": [
      "Processing W_0.3_3_1.csv...\n"
     ]
    },
    {
     "ename": "TypeError",
     "evalue": "'numpy.ndarray' object is not callable",
     "output_type": "error",
     "traceback": [
      "\u001b[31m---------------------------------------------------------------------------\u001b[39m",
      "\u001b[31mTypeError\u001b[39m                                 Traceback (most recent call last)",
      "\u001b[36mCell\u001b[39m\u001b[36m \u001b[39m\u001b[32mIn[11]\u001b[39m\u001b[32m, line 20\u001b[39m\n\u001b[32m     17\u001b[39m p = df[\u001b[33m'\u001b[39m\u001b[33mp\u001b[39m\u001b[33m'\u001b[39m].values\n\u001b[32m     19\u001b[39m \u001b[38;5;66;03m# Derivatives\u001b[39;00m\n\u001b[32m---> \u001b[39m\u001b[32m20\u001b[39m du_dx, du_dy = \u001b[43mnumerical_gradient\u001b[49m\u001b[43m(\u001b[49m\u001b[43mu\u001b[49m\u001b[43m,\u001b[49m\u001b[43m \u001b[49m\u001b[43mpoints\u001b[49m\u001b[43m)\u001b[49m\n\u001b[32m     21\u001b[39m dv_dx, dv_dy = numerical_gradient(v, points)\n\u001b[32m     22\u001b[39m dp_dx, dp_dy = numerical_gradient(p, points)\n",
      "\u001b[36mCell\u001b[39m\u001b[36m \u001b[39m\u001b[32mIn[10]\u001b[39m\u001b[32m, line 6\u001b[39m, in \u001b[36mnumerical_gradient\u001b[39m\u001b[34m(f_interp, pts, h)\u001b[39m\n\u001b[32m      4\u001b[39m     offset = np.zeros_like(pts)\n\u001b[32m      5\u001b[39m     offset[:, i] = h\n\u001b[32m----> \u001b[39m\u001b[32m6\u001b[39m     grad_i = (\u001b[43mf_interp\u001b[49m\u001b[43m(\u001b[49m\u001b[43mpts\u001b[49m\u001b[43m \u001b[49m\u001b[43m+\u001b[49m\u001b[43m \u001b[49m\u001b[43moffset\u001b[49m\u001b[43m)\u001b[49m - f_interp(pts - offset)) / (\u001b[32m2\u001b[39m * h)\n\u001b[32m      7\u001b[39m     grads.append(grad_i)\n\u001b[32m      8\u001b[39m \u001b[38;5;28;01mreturn\u001b[39;00m grads\n",
      "\u001b[31mTypeError\u001b[39m: 'numpy.ndarray' object is not callable"
     ]
    }
   ],
   "source": [
    "for first in first_values:\n",
    "    for second in second_values:\n",
    "        first_str = f\"{first:.2f}\".rstrip(\"0\").rstrip(\".\")\n",
    "        file_name = f\"W_{first_str}_{second}_1.csv\"\n",
    "        file_path = os.path.join(folder_path, file_name)\n",
    "        \n",
    "        if os.path.exists(file_path):\n",
    "            print(f\"Processing {file_name}...\")\n",
    "            \n",
    "            # Load CSV file\n",
    "            df = pd.read_csv(file_path)\n",
    "            \n",
    "            # Extract input and output data\n",
    "            points = df[['x', 'y']].values\n",
    "            u = df['u'].values\n",
    "            v = df['v'].values\n",
    "            p = df['p'].values\n",
    "\n",
    "            # Interpolators\n",
    "            rbf_u = RBFInterpolator(points, u, kernel='thin_plate_spline')\n",
    "            rbf_v = RBFInterpolator(points, v, kernel='thin_plate_spline')\n",
    "            rbf_p = RBFInterpolator(points, p, kernel='thin_plate_spline')\n",
    "\n",
    "            # Derivatives\n",
    "            du_dx, du_dy = numerical_gradient(rbf_u, points)\n",
    "            dv_dx, dv_dy = numerical_gradient(rbf_v, points)\n",
    "            dp_dx, dp_dy = numerical_gradient(rbf_p, points)\n",
    "            lap_u = numerical_laplacian(rbf_u, points)\n",
    "            lap_v = numerical_laplacian(rbf_v, points)\n",
    "\n",
    "            # Residuals\n",
    "            mu = 0.01\n",
    "            cont_res = du_dx + dv_dy\n",
    "            mom_x_res = u * du_dx + v * du_dy + dp_dx - mu * lap_u\n",
    "            mom_y_res = u * dv_dx + v * dv_dy + dp_dy - mu * lap_v\n",
    "\n",
    "            # Plotting\n",
    "            fig, axs = plt.subplots(1, 3, figsize=(18, 5))\n",
    "\n",
    "            sc1 = axs[0].scatter(points[:, 0], points[:, 1], c=cont_res, cmap='coolwarm')\n",
    "            axs[0].set_title('Continuity Residual')\n",
    "            plt.colorbar(sc1, ax=axs[0])\n",
    "\n",
    "            sc2 = axs[1].scatter(points[:, 0], points[:, 1], c=mom_x_res, cmap='coolwarm')\n",
    "            axs[1].set_title('X-Momentum Residual')\n",
    "            plt.colorbar(sc2, ax=axs[1])\n",
    "\n",
    "            sc3 = axs[2].scatter(points[:, 0], points[:, 1], c=mom_y_res, cmap='coolwarm')\n",
    "            axs[2].set_title('Y-Momentum Residual')\n",
    "            plt.colorbar(sc3, ax=axs[2])\n",
    "\n",
    "            for ax in axs:\n",
    "                ax.set_xlabel('x')\n",
    "                ax.set_ylabel('y')\n",
    "                ax.set_aspect('equal')\n",
    "\n",
    "            plt.tight_layout()\n",
    "            plt.savefig(f\"results/losses/residuals_{first_str}_{second}.png\")\n",
    "\n",
    "            # Mean absolute residuals\n",
    "            avg_continuity = np.mean(np.abs(cont_res))\n",
    "            avg_momentum_x = np.mean(np.abs(mom_x_res))\n",
    "            avg_momentum_y = np.mean(np.abs(mom_y_res))\n",
    "\n",
    "            row = {\n",
    "                'f': first,\n",
    "                'n': second,\n",
    "                'continuity': avg_continuity,\n",
    "                'momentum_x': avg_momentum_x,\n",
    "                'momentum_y': avg_momentum_y\n",
    "            }\n",
    "            \n",
    "            pd.DataFrame([row]).to_csv(\n",
    "                out_file,\n",
    "                mode='a',\n",
    "                header=write_header,\n",
    "                index=False\n",
    "            )\n",
    "            write_header = False  # after first write, never write header again"
   ]
  }
 ],
 "metadata": {
  "kernelspec": {
   "display_name": "Python 3",
   "language": "python",
   "name": "python3"
  },
  "language_info": {
   "codemirror_mode": {
    "name": "ipython",
    "version": 3
   },
   "file_extension": ".py",
   "mimetype": "text/x-python",
   "name": "python",
   "nbconvert_exporter": "python",
   "pygments_lexer": "ipython3",
   "version": "3.13.5"
  }
 },
 "nbformat": 4,
 "nbformat_minor": 5
}
