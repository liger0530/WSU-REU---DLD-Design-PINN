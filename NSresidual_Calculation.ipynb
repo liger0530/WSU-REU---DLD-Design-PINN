{
 "cells": [
  {
   "cell_type": "code",
   "execution_count": null,
   "id": "39e63cc5-e508-4bd9-86d2-fc6ec1a48067",
   "metadata": {},
   "outputs": [],
   "source": [
    "import pandas as pd\n",
    "import numpy as np\n",
    "import matplotlib.pyplot as plt\n",
    "from torchrbf import RBFInterpolator\n",
    "\n",
    "# Load the CSV file\n",
    "df = pd.read_csv(f'data/csv/W_0.3_3_1.csv')  # Replace with your path\n",
    "\n",
    "# Extract coordinates and fields\n",
    "points = df[['x', 'y']].values\n",
    "u = df['u'].values\n",
    "v = df['v'].values\n",
    "p = df['p'].values\n",
    "\n",
    "# Interpolators\n",
    "rbf_u = RBFInterpolator(points, u, kernel='thin_plate_spline', device=\"cuda\")\n",
    "rbf_v = RBFInterpolator(points, v, kernel='thin_plate_spline', device=\"cuda\")\n",
    "rbf_p = RBFInterpolator(points, p, kernel='thin_plate_spline', device=\"cuda\")\n",
    "\n",
    "# Gradient and Laplacian functions\n",
    "def numerical_gradient(f_interp, pts, h=1e-4):\n",
    "    grads = []\n",
    "    for i in range(2):\n",
    "        offset = np.zeros_like(pts)\n",
    "        offset[:, i] = h\n",
    "        grad_i = (f_interp(pts + offset) - f_interp(pts - offset)) / (2 * h)\n",
    "        grads.append(grad_i)\n",
    "    return grads\n",
    "\n",
    "def numerical_laplacian(f_interp, pts, h=1e-4):\n",
    "    lap = np.zeros(len(pts))\n",
    "    for i in range(2):\n",
    "        offset = np.zeros_like(pts)\n",
    "        f_plus = f_interp(pts + offset)\n",
    "        f_minus = f_interp(pts - offset)\n",
    "        f_center = f_interp(pts)\n",
    "        lap += (f_plus - 2 * f_center + f_minus) / h**2\n",
    "    return lap\n",
    "\n",
    "# Derivatives\n",
    "du_dx, du_dy = numerical_gradient(rbf_u, points)\n",
    "dv_dx, dv_dy = numerical_gradient(rbf_v, points)\n",
    "dp_dx, dp_dy = numerical_gradient(rbf_p, points)\n",
    "lap_u = numerical_laplacian(rbf_u, points)\n",
    "lap_v = numerical_laplacian(rbf_v, points)\n",
    "\n",
    "# Residuals\n",
    "mu = 0.01\n",
    "cont_res = du_dx + dv_dy\n",
    "mom_x_res = u * du_dx + v * du_dy + dp_dx - mu * lap_u\n",
    "mom_y_res = u * dv_dx + v * dv_dy + dp_dy - mu * lap_v\n",
    "\n",
    "# Plotting\n",
    "fig, axs = plt.subplots(1, 3, figsize=(18, 5))\n",
    "\n",
    "sc1 = axs[0].scatter(points[:, 0], points[:, 1], c=cont_res, cmap='coolwarm')\n",
    "axs[0].set_title('Continuity Residual')\n",
    "plt.colorbar(sc1, ax=axs[0])\n",
    "\n",
    "sc2 = axs[1].scatter(points[:, 0], points[:, 1], c=mom_x_res, cmap='coolwarm')\n",
    "axs[1].set_title('X-Momentum Residual')\n",
    "plt.colorbar(sc2, ax=axs[1])\n",
    "\n",
    "sc3 = axs[2].scatter(points[:, 0], points[:, 1], c=mom_y_res, cmap='coolwarm')\n",
    "axs[2].set_title('Y-Momentum Residual')\n",
    "plt.colorbar(sc3, ax=axs[2])\n",
    "\n",
    "for ax in axs:\n",
    "    ax.set_xlabel('x')\n",
    "    ax.set_ylabel('y')\n",
    "    ax.set_aspect('equal')\n",
    "\n",
    "plt.tight_layout()\n",
    "plt.show()\n"
   ]
  },
  {
   "cell_type": "code",
   "execution_count": null,
   "id": "15c8e112-7bcb-40e2-8ba4-c4d8ee14df6d",
   "metadata": {},
   "outputs": [
    {
     "name": "stdout",
     "output_type": "stream",
     "text": [
      "Average Continuity Residual:  81749700.01775692\n",
      "Average X-Momentum Residual:  4554706519.303623\n",
      "Average Y-Momentum Residual:  4796636332.865365\n"
     ]
    }
   ],
   "source": [
    "# Mean absolute residuals\n",
    "avg_continuity = np.mean(np.abs(cont_res))\n",
    "avg_momentum_x = np.mean(np.abs(mom_x_res))\n",
    "avg_momentum_y = np.mean(np.abs(mom_y_res))\n",
    "\n",
    "print(\"Average Continuity Residual: \", avg_continuity)\n",
    "print(\"Average X-Momentum Residual: \", avg_momentum_x)\n",
    "print(\"Average Y-Momentum Residual: \", avg_momentum_y)\n"
   ]
  }
 ],
 "metadata": {
  "kernelspec": {
   "display_name": "Python 3",
   "language": "python",
   "name": "python3"
  },
  "language_info": {
   "codemirror_mode": {
    "name": "ipython",
    "version": 3
   },
   "file_extension": ".py",
   "mimetype": "text/x-python",
   "name": "python",
   "nbconvert_exporter": "python",
   "pygments_lexer": "ipython3",
   "version": "3.13.5"
  }
 },
 "nbformat": 4,
 "nbformat_minor": 5
}
